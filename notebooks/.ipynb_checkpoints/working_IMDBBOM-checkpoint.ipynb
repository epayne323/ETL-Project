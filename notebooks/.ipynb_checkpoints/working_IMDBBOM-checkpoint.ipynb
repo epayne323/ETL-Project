{
 "cells": [
  {
   "cell_type": "code",
   "execution_count": 82,
   "metadata": {},
   "outputs": [],
   "source": [
    "from splinter import Browser\n",
    "from splinter.exceptions import ElementDoesNotExist\n",
    "from bs4 import BeautifulSoup as bs\n",
    "import pandas as pd\n",
    "import os\n",
    "import matplotlib.pyplot as plt\n",
    "import scipy.stats as stats\n",
    "\n",
    "# Imports the method used to connect to DBs\n",
    "from sqlalchemy import create_engine\n",
    "\n",
    "# function to establish a session with a connected database\n",
    "from sqlalchemy.orm import Session\n",
    "\n",
    "from sqlalchemy.ext.automap import automap_base"
   ]
  },
  {
   "cell_type": "code",
   "execution_count": null,
   "metadata": {},
   "outputs": [],
   "source": [
    "#initialize Splinter browser\n",
    "executable_path = {'executable_path': 'chromedriver.exe'}\n",
    "browser = Browser('chrome', **executable_path, headless=False)\n",
    "\n",
    "# Box Office Mojo Top 1000 Lifetime Grosses URL\n",
    "url = 'https://www.boxofficemojo.com/chart/top_lifetime_gross/'\n",
    "browser.visit(url)\n",
    "\n",
    "movie_grosses = []\n",
    "\n",
    "# Box Office Mojo only has the top 1000 highest grossing movies, divided into chunks of 200. If I didn't\n",
    "# know ahead of time how many items to expect, I would use a while loop instead.\n",
    "for x in range(5):\n",
    "    \n",
    "    # Create HTML object and parse with Beautiful Soup\n",
    "    html = browser.html\n",
    "    soup = bs(html, 'html.parser')\n",
    "    \n",
    "    # Retrieve all titles and grosses\n",
    "    titles = soup.find_all('td', class_='a-text-left mojo-field-type-title')\n",
    "    grosses = soup.find_all('td', class_='a-text-right mojo-field-type-money')\n",
    "    years = soup.find_all('td', class_='a-text-left mojo-field-type-year')\n",
    "    \n",
    "    # relevant information is sotred as a list of lists\n",
    "    for i in range(len(titles)):\n",
    "        movie_grosses.append([titles[i].text, grosses[i].text, years[i].text])\n",
    "    \n",
    "    try:\n",
    "        # Click the 'Next' button on each page\n",
    "        browser.click_link_by_partial_text(\"Next page\")\n",
    "    except ElementDoesNotExist:\n",
    "        print(\"Scraping Complete\")"
   ]
  },
  {
   "cell_type": "code",
   "execution_count": null,
   "metadata": {},
   "outputs": [],
   "source": [
    "# insert scraped data into dataframe\n",
    "movie_grosses_df = pd.DataFrame(movie_grosses, columns = [\"Title\", \"Gross\", \"Year\"])"
   ]
  },
  {
   "cell_type": "code",
   "execution_count": 10,
   "metadata": {},
   "outputs": [],
   "source": [
    "db_user = 'postgres'\n",
    "db_password = 'postgres'\n",
    "db_host = 'localhost'\n",
    "db_port = 5432\n",
    "\n",
    "# This database must already exist\n",
    "db_name = \"IMDB_db\"\n",
    "\n",
    "engine = create_engine(f\"postgres://{db_user}:{db_password}@{db_host}:{db_port}/{db_name}\")"
   ]
  },
  {
   "cell_type": "code",
   "execution_count": null,
   "metadata": {},
   "outputs": [],
   "source": [
    "movie_grosses_df.to_sql(\"movie_grosses\", engine)"
   ]
  },
  {
   "cell_type": "code",
   "execution_count": 3,
   "metadata": {},
   "outputs": [
    {
     "name": "stderr",
     "output_type": "stream",
     "text": [
      "C:\\Users\\epayn\\Anaconda3\\lib\\site-packages\\IPython\\core\\interactiveshell.py:3058: DtypeWarning: Columns (5) have mixed types. Specify dtype option on import or set low_memory=False.\n",
      "  interactivity=interactivity, compiler=compiler, result=result)\n"
     ]
    }
   ],
   "source": [
    "# data found here: https://www.kaggle.com/ashirwadsangwan/imdb-dataset\n",
    "# orignally in .tsv format, I changed to .csv and used pandas read_csv with tab seperators\n",
    "titleratings_df = pd.read_csv(os.path.join(\"..\",\"data\",\"titleratings.csv\"),sep='\\t')\n",
    "titlebasics_df = pd.read_csv(os.path.join(\"..\",\"data\",\"titlebasics.csv\"),sep='\\t')"
   ]
  },
  {
   "cell_type": "code",
   "execution_count": null,
   "metadata": {},
   "outputs": [],
   "source": [
    "#TODO: merge title\n",
    "\n",
    "# top1000_tilebasics_df = titlebasics_df.loc[titlebasics_df[\"primaryTitle\"].isin(movie_grosses.keys()),:]\n",
    "\n",
    "# titleratings_df.columns\n",
    "# titlebasics_df.loc[:,[\"tconst\",\"primaryTitle\",\"originalTitle\"]].head()\n",
    "\n",
    "#TODO: merge titlebasics_df and titleratings_df on tconst\n",
    "# titleratings_df.merge(titlebasics_df.loc[:,[\"tconst\",\"primaryTitle\",\"originalTitle\"]] on=\"tconst\",how=\"left\")"
   ]
  },
  {
   "cell_type": "code",
   "execution_count": 6,
   "metadata": {},
   "outputs": [],
   "source": [
    "titleratings_df.to_sql(\"title_ratings\", engine)"
   ]
  },
  {
   "cell_type": "code",
   "execution_count": 7,
   "metadata": {},
   "outputs": [],
   "source": [
    "titlebasics_df.to_sql(\"title_basics\", engine)"
   ]
  },
  {
   "cell_type": "code",
   "execution_count": 24,
   "metadata": {},
   "outputs": [],
   "source": [
    "Base = automap_base()\n",
    "Base.prepare(engine, reflect=True)"
   ]
  },
  {
   "cell_type": "code",
   "execution_count": 25,
   "metadata": {},
   "outputs": [
    {
     "data": {
      "text/plain": [
       "['movie_grosses', 'title_ratings', 'title_basics']"
      ]
     },
     "execution_count": 25,
     "metadata": {},
     "output_type": "execute_result"
    }
   ],
   "source": [
    "Base.classes.keys()"
   ]
  },
  {
   "cell_type": "code",
   "execution_count": 28,
   "metadata": {},
   "outputs": [],
   "source": [
    "mg = Base.classes.movie_grosses\n",
    "tr = Base.classes.title_ratings\n",
    "tb = Base.classes.title_basics"
   ]
  },
  {
   "cell_type": "code",
   "execution_count": 87,
   "metadata": {},
   "outputs": [],
   "source": [
    "session = Session(engine)\n",
    "session.close()"
   ]
  },
  {
   "cell_type": "code",
   "execution_count": 53,
   "metadata": {},
   "outputs": [],
   "source": [
    "# SELECT DISTINCT ON (mg.\"Title\") tr.\"tconst\", mg.*, tr.\"averageRating\", tr.\"numVotes\"\n",
    "# FROM \"movie_grosses\" mg\n",
    "# LEFT JOIN \"title_basics\" tb ON (tb.\"primaryTitle\" = mg.\"Title\" AND tb.\"startYear\" = mg.\"Year\")\n",
    "# INNER JOIN \"title_ratings\" tr ON tr.\"tconst\" = tb.\"tconst\"\n",
    "# ORDER BY mg.\"Title\", tr.\"numVotes\" DESC;\n",
    "\n",
    "# movie_grosses_ratings = session.query(mg.Title, mg.Gross, mg.Year, tr.averageRating, tr.numVotes, \n",
    "#     tr.tconst).filter(mg.Title==tb.primaryTitle, mg.Year==tb.startYear, tb.tconst==tr.tconst).\\\n",
    "#     order_by(tr.numVotes.desc()).distinct().all()\n"
   ]
  },
  {
   "cell_type": "code",
   "execution_count": 108,
   "metadata": {},
   "outputs": [],
   "source": [
    "mgr = pd.read_sql('SELECT DISTINCT ON (mg.\"Title\") tr.\"tconst\", mg.*, tr.\"averageRating\", tr.\"numVotes\" FROM \"movie_grosses\" mg LEFT JOIN \"title_basics\" tb ON ((tb.\"primaryTitle\" = mg.\"Title\" OR tb.\"originalTitle\" = mg.\"Title\") AND tb.\"startYear\" = mg.\"Year\") INNER JOIN \"title_ratings\" tr ON tr.\"tconst\" = tb.\"tconst\" ORDER BY mg.\"Title\", tr.\"numVotes\" DESC;', engine)"
   ]
  },
  {
   "cell_type": "code",
   "execution_count": 109,
   "metadata": {},
   "outputs": [],
   "source": [
    "mgr.drop(\"index\", axis=1, inplace=True)"
   ]
  },
  {
   "cell_type": "code",
   "execution_count": 110,
   "metadata": {},
   "outputs": [],
   "source": [
    "mgr[\"grossint\"] = mgr[\"Gross\"].apply(lambda x: int(x[1:].replace(\",\",\"\")))"
   ]
  },
  {
   "cell_type": "code",
   "execution_count": 101,
   "metadata": {},
   "outputs": [
    {
     "name": "stderr",
     "output_type": "stream",
     "text": [
      "C:\\Users\\epayn\\Anaconda3\\lib\\site-packages\\ipykernel_launcher.py:5: MatplotlibDeprecationWarning: Adding an axes using the same arguments as a previous axes currently reuses the earlier instance.  In a future version, a new instance will always be created and returned.  Meanwhile, this warning can be suppressed, and the future behavior ensured, by passing a unique label to each axes instance.\n",
      "  \"\"\"\n"
     ]
    },
    {
     "data": {
      "text/plain": [
       "Text(4, 30000000, 'Slope = 32632650.0, Intercept = -62177900.0, R = 0.3')"
      ]
     },
     "execution_count": 101,
     "metadata": {},
     "output_type": "execute_result"
    },
    {
     "data": {
      "image/png": "[encoded data removed]",
      "text/plain": [
       "<Figure size 720x504 with 1 Axes>"
      ]
     },
     "metadata": {
      "needs_background": "light"
     },
     "output_type": "display_data"
    }
   ],
   "source": [
    "rating_gross_regression = stats.linregress(mgr[\"averageRating\"], mgr[\"grossint\"])\n",
    "\n",
    "plt.figure(figsize=(10,7))\n",
    "plt.title(\"Movie Lifetime Gross Revenues vs. IMDB Ratings\", fontsize=18)\n",
    "axes = plt.axes()\n",
    "\n",
    "axes.set_facecolor(\"xkcd:light grey\")\n",
    "axes.set_axisbelow(True)\n",
    "axes.grid(axis=\"both\", color = \"w\")\n",
    "\n",
    "axes.set_xlabel(\"Average IMDB Rating (1-10)\",size=\"x-large\")\n",
    "axes.set_ylabel(\"Lifetime Gross($)\",size=\"x-large\")\n",
    "\n",
    "plt.scatter(mgr[\"averageRating\"], mgr[\"grossint\"], alpha = .3)\n",
    "plt.plot(mgr[\"averageRating\"], mgr[\"averageRating\"]*rating_gross_regression[0]+rating_gross_regression[1],\n",
    "        c=\"black\")\n",
    "plt.annotate(f\"Slope = {round(rating_gross_regression[0],-1)},\" + \\\n",
    "             f\" Intercept = {round(rating_gross_regression[1],-1)}, R = {round(rating_gross_regression[2],3)}\", \n",
    "             (4, 30000000))"
   ]
  },
  {
   "cell_type": "code",
   "execution_count": 84,
   "metadata": {},
   "outputs": [
    {
     "data": {
      "text/plain": [
       "LinregressResult(slope=32632654.31966705, intercept=-62177895.68017548, rvalue=0.2999086869324799, pvalue=2.0061032092364017e-21, stderr=3351875.035618294)"
      ]
     },
     "execution_count": 84,
     "metadata": {},
     "output_type": "execute_result"
    }
   ],
   "source": [
    "rating_gross_regression"
   ]
  },
  {
   "cell_type": "code",
   "execution_count": 112,
   "metadata": {},
   "outputs": [],
   "source": [
    "movie_grosses = pd.read_sql(\"SELECT * FROM movie_grosses\", engine)"
   ]
  },
  {
   "cell_type": "code",
   "execution_count": 114,
   "metadata": {},
   "outputs": [
    {
     "data": {
      "text/plain": [
       "(980, 7)"
      ]
     },
     "execution_count": 114,
     "metadata": {},
     "output_type": "execute_result"
    }
   ],
   "source": [
    "mgr.shape"
   ]
  },
  {
   "cell_type": "code",
   "execution_count": 111,
   "metadata": {},
   "outputs": [
    {
     "data": {
      "text/html": [
       "<div>\n",
       "<style scoped>\n",
       "    .dataframe tbody tr th:only-of-type {\n",
       "        vertical-align: middle;\n",
       "    }\n",
       "\n",
       "    .dataframe tbody tr th {\n",
       "        vertical-align: top;\n",
       "    }\n",
       "\n",
       "    .dataframe thead th {\n",
       "        text-align: right;\n",
       "    }\n",
       "</style>\n",
       "<table border=\"1\" class=\"dataframe\">\n",
       "  <thead>\n",
       "    <tr style=\"text-align: right;\">\n",
       "      <th></th>\n",
       "      <th>index</th>\n",
       "      <th>Title</th>\n",
       "      <th>Gross</th>\n",
       "      <th>Year</th>\n",
       "    </tr>\n",
       "  </thead>\n",
       "  <tbody>\n",
       "    <tr>\n",
       "      <td>16</td>\n",
       "      <td>16</td>\n",
       "      <td>Star Wars: Episode IX - The Rise of Skywalker</td>\n",
       "      <td>$463,110,690</td>\n",
       "      <td>2019</td>\n",
       "    </tr>\n",
       "    <tr>\n",
       "      <td>135</td>\n",
       "      <td>135</td>\n",
       "      <td>Jumanji: The Next Level</td>\n",
       "      <td>$243,124,981</td>\n",
       "      <td>2019</td>\n",
       "    </tr>\n",
       "    <tr>\n",
       "      <td>413</td>\n",
       "      <td>413</td>\n",
       "      <td>Once Upon a Time ...in Hollywood</td>\n",
       "      <td>$141,103,164</td>\n",
       "      <td>2019</td>\n",
       "    </tr>\n",
       "    <tr>\n",
       "      <td>623</td>\n",
       "      <td>623</td>\n",
       "      <td>Porky's</td>\n",
       "      <td>$111,289,673</td>\n",
       "      <td>1982</td>\n",
       "    </tr>\n",
       "    <tr>\n",
       "      <td>647</td>\n",
       "      <td>647</td>\n",
       "      <td>The Upside</td>\n",
       "      <td>$108,252,517</td>\n",
       "      <td>2019</td>\n",
       "    </tr>\n",
       "    <tr>\n",
       "      <td>649</td>\n",
       "      <td>649</td>\n",
       "      <td>Superman II</td>\n",
       "      <td>$108,185,706</td>\n",
       "      <td>1981</td>\n",
       "    </tr>\n",
       "    <tr>\n",
       "      <td>652</td>\n",
       "      <td>652</td>\n",
       "      <td>Paranormal Activity</td>\n",
       "      <td>$107,918,810</td>\n",
       "      <td>2009</td>\n",
       "    </tr>\n",
       "    <tr>\n",
       "      <td>889</td>\n",
       "      <td>889</td>\n",
       "      <td>Gekijô-ban poketto monsutâ - Myûtsû no gyakushû</td>\n",
       "      <td>$85,744,662</td>\n",
       "      <td>1999</td>\n",
       "    </tr>\n",
       "  </tbody>\n",
       "</table>\n",
       "</div>"
      ],
      "text/plain": [
       "     index                                            Title         Gross  \\\n",
       "16      16    Star Wars: Episode IX - The Rise of Skywalker  $463,110,690   \n",
       "135    135                          Jumanji: The Next Level  $243,124,981   \n",
       "413    413                 Once Upon a Time ...in Hollywood  $141,103,164   \n",
       "623    623                                          Porky's  $111,289,673   \n",
       "647    647                                       The Upside  $108,252,517   \n",
       "649    649                                      Superman II  $108,185,706   \n",
       "652    652                              Paranormal Activity  $107,918,810   \n",
       "889    889  Gekijô-ban poketto monsutâ - Myûtsû no gyakushû   $85,744,662   \n",
       "\n",
       "     Year  \n",
       "16   2019  \n",
       "135  2019  \n",
       "413  2019  \n",
       "623  1982  \n",
       "647  2019  \n",
       "649  1981  \n",
       "652  2009  \n",
       "889  1999  "
      ]
     },
     "execution_count": 111,
     "metadata": {},
     "output_type": "execute_result"
    }
   ],
   "source": [
    "# df1[~df1.isin(df2)].dropna()\n",
    "movie_grosses.loc[~movie_grosses[\"Title\"].isin(mgr[\"Title\"]),:]"
   ]
  },
  {
   "cell_type": "code",
   "execution_count": 123,
   "metadata": {},
   "outputs": [
    {
     "data": {
      "text/html": [
       "<div>\n",
       "<style scoped>\n",
       "    .dataframe tbody tr th:only-of-type {\n",
       "        vertical-align: middle;\n",
       "    }\n",
       "\n",
       "    .dataframe tbody tr th {\n",
       "        vertical-align: top;\n",
       "    }\n",
       "\n",
       "    .dataframe thead th {\n",
       "        text-align: right;\n",
       "    }\n",
       "</style>\n",
       "<table border=\"1\" class=\"dataframe\">\n",
       "  <thead>\n",
       "    <tr style=\"text-align: right;\">\n",
       "      <th></th>\n",
       "      <th>tconst</th>\n",
       "      <th>Title</th>\n",
       "      <th>Gross</th>\n",
       "      <th>Year</th>\n",
       "      <th>averageRating</th>\n",
       "      <th>numVotes</th>\n",
       "      <th>grossint</th>\n",
       "    </tr>\n",
       "  </thead>\n",
       "  <tbody>\n",
       "  </tbody>\n",
       "</table>\n",
       "</div>"
      ],
      "text/plain": [
       "Empty DataFrame\n",
       "Columns: [tconst, Title, Gross, Year, averageRating, numVotes, grossint]\n",
       "Index: []"
      ]
     },
     "execution_count": 123,
     "metadata": {},
     "output_type": "execute_result"
    }
   ],
   "source": [
    "mgr.loc[mgr[\"Title\"] == \"Porky's\",:]"
   ]
  },
  {
   "cell_type": "code",
   "execution_count": 125,
   "metadata": {},
   "outputs": [
    {
     "data": {
      "text/html": [
       "<div>\n",
       "<style scoped>\n",
       "    .dataframe tbody tr th:only-of-type {\n",
       "        vertical-align: middle;\n",
       "    }\n",
       "\n",
       "    .dataframe tbody tr th {\n",
       "        vertical-align: top;\n",
       "    }\n",
       "\n",
       "    .dataframe thead th {\n",
       "        text-align: right;\n",
       "    }\n",
       "</style>\n",
       "<table border=\"1\" class=\"dataframe\">\n",
       "  <thead>\n",
       "    <tr style=\"text-align: right;\">\n",
       "      <th></th>\n",
       "      <th>index</th>\n",
       "      <th>Title</th>\n",
       "      <th>Gross</th>\n",
       "      <th>Year</th>\n",
       "    </tr>\n",
       "  </thead>\n",
       "  <tbody>\n",
       "    <tr>\n",
       "      <td>623</td>\n",
       "      <td>623</td>\n",
       "      <td>Porky's</td>\n",
       "      <td>$111,289,673</td>\n",
       "      <td>1982</td>\n",
       "    </tr>\n",
       "  </tbody>\n",
       "</table>\n",
       "</div>"
      ],
      "text/plain": [
       "     index    Title         Gross  Year\n",
       "623    623  Porky's  $111,289,673  1982"
      ]
     },
     "execution_count": 125,
     "metadata": {},
     "output_type": "execute_result"
    }
   ],
   "source": [
    "movie_grosses.loc[movie_grosses[\"Title\"]==\"Porky's\",:]"
   ]
  },
  {
   "cell_type": "code",
   "execution_count": null,
   "metadata": {},
   "outputs": [],
   "source": []
  }
 ],
 "metadata": {
  "kernelspec": {
   "display_name": "Python 3",
   "language": "python",
   "name": "python3"
  },
  "language_info": {
   "codemirror_mode": {
    "name": "ipython",
    "version": 3
   },
   "file_extension": ".py",
   "mimetype": "text/x-python",
   "name": "python",
   "nbconvert_exporter": "python",
   "pygments_lexer": "ipython3",
   "version": "3.7.3"
  }
 },
 "nbformat": 4,
 "nbformat_minor": 2
}
