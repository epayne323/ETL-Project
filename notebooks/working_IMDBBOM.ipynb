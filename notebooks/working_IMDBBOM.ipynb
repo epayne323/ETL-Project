{
 "cells": [
  {
   "cell_type": "code",
   "execution_count": 1,
   "metadata": {},
   "outputs": [],
   "source": [
    "from splinter import Browser\n",
    "from splinter.exceptions import ElementDoesNotExist\n",
    "from bs4 import BeautifulSoup as bs\n",
    "\n",
    "import pandas as pd\n",
    "import os\n",
    "\n",
    "import matplotlib.pyplot as plt\n",
    "import scipy.stats as stats\n",
    "\n",
    "from sqlalchemy import create_engine\n",
    "from sqlalchemy.orm import Session\n",
    "from sqlalchemy.ext.automap import automap_base"
   ]
  },
  {
   "cell_type": "code",
   "execution_count": 2,
   "metadata": {},
   "outputs": [
    {
     "name": "stderr",
     "output_type": "stream",
     "text": [
      "C:\\Users\\epayn\\Anaconda3\\lib\\site-packages\\splinter\\driver\\webdriver\\__init__.py:528: FutureWarning: browser.find_link_by_partial_text is deprecated. Use browser.links.find_by_partial_text instead.\n",
      "  FutureWarning,\n"
     ]
    },
    {
     "name": "stdout",
     "output_type": "stream",
     "text": [
      "Scraping Complete\n"
     ]
    }
   ],
   "source": [
    "#initialize Splinter browser\n",
    "executable_path = {'executable_path': 'chromedriver.exe'}\n",
    "browser = Browser('chrome', **executable_path, headless=False)\n",
    "\n",
    "# Box Office Mojo Top 1000 Lifetime Grosses URL\n",
    "url = 'https://www.boxofficemojo.com/chart/top_lifetime_gross/'\n",
    "browser.visit(url)\n",
    "\n",
    "movie_grosses = []\n",
    "\n",
    "# Box Office Mojo only has the top 1000 highest grossing movies, divided into chunks of 200. If I didn't\n",
    "# know ahead of time how many items to expect, I would use a while loop instead.\n",
    "for x in range(5):\n",
    "    \n",
    "    # Create HTML object and parse with Beautiful Soup\n",
    "    html = browser.html\n",
    "    soup = bs(html, 'html.parser')\n",
    "    \n",
    "    # Retrieve all titles and grosses\n",
    "    titles = soup.find_all('td', class_='a-text-left mojo-field-type-title')\n",
    "    grosses = soup.find_all('td', class_='a-text-right mojo-field-type-money')\n",
    "    years = soup.find_all('td', class_='a-text-left mojo-field-type-year')\n",
    "    \n",
    "    # relevant information is sotred as a list of lists\n",
    "    for i in range(len(titles)):\n",
    "        movie_grosses.append([titles[i].text, grosses[i].text, years[i].text])\n",
    "    \n",
    "    try:\n",
    "        # Click the 'Next' button on each page\n",
    "        browser.click_link_by_partial_text(\"Next page\")\n",
    "    except ElementDoesNotExist:\n",
    "        print(\"Scraping Complete\")"
   ]
  },
  {
   "cell_type": "code",
   "execution_count": 3,
   "metadata": {},
   "outputs": [],
   "source": [
    "# insert scraped data into dataframe\n",
    "movie_grosses_df = pd.DataFrame(movie_grosses, columns = [\"Title\", \"Gross\", \"Year\"])"
   ]
  },
  {
   "cell_type": "code",
   "execution_count": 4,
   "metadata": {},
   "outputs": [],
   "source": [
    "# adding additional column where the gross revenue is stored as an integer instead of a string\n",
    "# remove first character ($) and commas\n",
    "movie_grosses_df[\"grossint\"] = movie_grosses_df[\"Gross\"].apply(lambda x: int(x[1:].replace(\",\",\"\")))"
   ]
  },
  {
   "cell_type": "code",
   "execution_count": 5,
   "metadata": {},
   "outputs": [],
   "source": [
    "db_user = 'postgres'\n",
    "db_password = 'postgres'\n",
    "db_host = 'localhost'\n",
    "db_port = 5432\n",
    "\n",
    "# This database must already exist\n",
    "db_name = \"IMDB_db\"\n",
    "\n",
    "engine = create_engine(f\"postgres://{db_user}:{db_password}@{db_host}:{db_port}/{db_name}\")"
   ]
  },
  {
   "cell_type": "code",
   "execution_count": 7,
   "metadata": {},
   "outputs": [],
   "source": [
    "# adding to postgres\n",
    "movie_grosses_df.to_sql(\"movie_grosses\", engine)"
   ]
  },
  {
   "cell_type": "code",
   "execution_count": null,
   "metadata": {},
   "outputs": [],
   "source": [
    "# data found here: https://www.kaggle.com/ashirwadsangwan/imdb-dataset\n",
    "# orignally in .tsv format, I changed to .csv and used pandas read_csv with tab seperators\n",
    "titlebasics_df = pd.read_csv(os.path.join(\"..\",\"data\",\"titlebasics.csv\"),sep='\\t')\n",
    "titleratings_df = pd.read_csv(os.path.join(\"..\",\"data\",\"titleratings.csv\"),sep='\\t')"
   ]
  },
  {
   "cell_type": "code",
   "execution_count": null,
   "metadata": {},
   "outputs": [],
   "source": [
    "# this is a very large file, over 500mb. I loaded into postgres before doing any other transformations or\n",
    "# analysis, and although that took about 20 min, afterwards it's quick to read from the database\n",
    "titlebasics_df.to_sql(\"title_basics\", engine)"
   ]
  },
  {
   "cell_type": "code",
   "execution_count": null,
   "metadata": {},
   "outputs": [],
   "source": [
    "# Does not include the latest Star Wars or Jumanji movies, so they w\n",
    "titleratings_df.to_sql(\"title_ratings\", engine)"
   ]
  },
  {
   "cell_type": "code",
   "execution_count": 76,
   "metadata": {},
   "outputs": [],
   "source": [
    "# query designed in postgres. I tried using session queries to do this, but I had trouble with distinct\n",
    "mgr = pd.read_sql('SELECT DISTINCT ON (mg.\"grossint\") tr.\"tconst\", mg.*, tr.\"averageRating\", tr.\"numVotes\" FROM \"movie_grosses\" mg LEFT JOIN \"title_basics\" tb ON ((tb.\"originalTitle\" = mg.\"Title\" OR tb.\"primaryTitle\" = mg.\"Title\") AND (tb.\"startYear\" = mg.\"Year\" OR (tb.\"startYear\"::int8)+1 = mg.\"Year\"::int8 OR (tb.\"startYear\"::int8)+2 = mg.\"Year\"::int8 )) INNER JOIN \"title_ratings\" tr ON tr.\"tconst\" = tb.\"tconst\" WHERE tb.\"titleType\" = \\'movie\\' ORDER BY mg.\"grossint\" DESC;', engine)\n",
    "mgr.drop(\"index\", axis=1, inplace=True)"
   ]
  },
  {
   "cell_type": "code",
   "execution_count": 70,
   "metadata": {},
   "outputs": [],
   "source": [
    "# this is only to get information on two missing records: Once Upon a Time ...in Hollywood, and Everest\n",
    "stragglers = pd.read_sql('SELECT DISTINCT ON (tr.\"numVotes\") tb.\"originalTitle\", tr.\"tconst\", tr.\"averageRating\", tr.\"numVotes\" FROM \"title_basics\" tb INNER JOIN \"title_ratings\" tr ON tr.\"tconst\" = tb.\"tconst\" WHERE tb.\"titleType\" = \\'movie\\' AND (tb.\"originalTitle\" in (\\'Everest\\', \\'Once Upon a Time... in Hollywood\\') OR tb.\"primaryTitle\" in (\\'Everest\\', \\'Once Upon a Time ...in Hollywood\\')) ORDER BY tr.\"numVotes\" DESC;', engine)\n",
    "OUATIH = movie_grosses_df.loc[movie_grosses_df[\"Title\"]==\"Once Upon a Time ...in Hollywood\",:]\n",
    "Everest =  movie_grosses_df.loc[movie_grosses_df[\"Title\"]==\"Everest\",:]"
   ]
  },
  {
   "cell_type": "code",
   "execution_count": 89,
   "metadata": {},
   "outputs": [],
   "source": [
    "# one-by-one insertion is never ideal, but these two movies had slight inconsistencies in their data, \n",
    "# making it difficult to capture them in the regular query\n",
    "mgr.loc[len(mgr)] = [stragglers.iloc[0, 1],stragglers.iloc[0, 0], OUATIH.iloc[0,1], OUATIH.iloc[0,2],\n",
    "            OUATIH.iloc[0,3], stragglers.iloc[0, 2], stragglers.iloc[0, 3]]\n",
    "mgr.loc[len(mgr)] = [stragglers.iloc[1, 1],stragglers.iloc[1, 0], Everest.iloc[0,1], Everest.iloc[0,2],\n",
    "            Everest.iloc[0,3], stragglers.iloc[1, 2], stragglers.iloc[1, 3]]"
   ]
  },
  {
   "cell_type": "code",
   "execution_count": 90,
   "metadata": {},
   "outputs": [
    {
     "data": {
      "text/html": [
       "<div>\n",
       "<style scoped>\n",
       "    .dataframe tbody tr th:only-of-type {\n",
       "        vertical-align: middle;\n",
       "    }\n",
       "\n",
       "    .dataframe tbody tr th {\n",
       "        vertical-align: top;\n",
       "    }\n",
       "\n",
       "    .dataframe thead th {\n",
       "        text-align: right;\n",
       "    }\n",
       "</style>\n",
       "<table border=\"1\" class=\"dataframe\">\n",
       "  <thead>\n",
       "    <tr style=\"text-align: right;\">\n",
       "      <th></th>\n",
       "      <th>tconst</th>\n",
       "      <th>Title</th>\n",
       "      <th>Gross</th>\n",
       "      <th>Year</th>\n",
       "      <th>grossint</th>\n",
       "      <th>averageRating</th>\n",
       "      <th>numVotes</th>\n",
       "    </tr>\n",
       "  </thead>\n",
       "  <tbody>\n",
       "    <tr>\n",
       "      <td>993</td>\n",
       "      <td>tt1077368</td>\n",
       "      <td>Dark Shadows</td>\n",
       "      <td>$79,727,149</td>\n",
       "      <td>2012</td>\n",
       "      <td>79727149</td>\n",
       "      <td>6.2</td>\n",
       "      <td>234904</td>\n",
       "    </tr>\n",
       "    <tr>\n",
       "      <td>994</td>\n",
       "      <td>tt0071455</td>\n",
       "      <td>Earthquake</td>\n",
       "      <td>$79,666,653</td>\n",
       "      <td>1974</td>\n",
       "      <td>79666653</td>\n",
       "      <td>5.9</td>\n",
       "      <td>12832</td>\n",
       "    </tr>\n",
       "    <tr>\n",
       "      <td>995</td>\n",
       "      <td>tt1114677</td>\n",
       "      <td>Hannah Montana: The Movie</td>\n",
       "      <td>$79,576,189</td>\n",
       "      <td>2009</td>\n",
       "      <td>79576189</td>\n",
       "      <td>4.4</td>\n",
       "      <td>37572</td>\n",
       "    </tr>\n",
       "    <tr>\n",
       "      <td>996</td>\n",
       "      <td>tt7131622</td>\n",
       "      <td>Once Upon a Time... in Hollywood</td>\n",
       "      <td>$141,103,164</td>\n",
       "      <td>2019</td>\n",
       "      <td>141103164</td>\n",
       "      <td>8.0</td>\n",
       "      <td>228765</td>\n",
       "    </tr>\n",
       "    <tr>\n",
       "      <td>997</td>\n",
       "      <td>tt2719848</td>\n",
       "      <td>Everest</td>\n",
       "      <td>$87,178,599</td>\n",
       "      <td>1998</td>\n",
       "      <td>87178599</td>\n",
       "      <td>7.1</td>\n",
       "      <td>184813</td>\n",
       "    </tr>\n",
       "  </tbody>\n",
       "</table>\n",
       "</div>"
      ],
      "text/plain": [
       "        tconst                             Title         Gross  Year  \\\n",
       "993  tt1077368                      Dark Shadows   $79,727,149  2012   \n",
       "994  tt0071455                        Earthquake   $79,666,653  1974   \n",
       "995  tt1114677         Hannah Montana: The Movie   $79,576,189  2009   \n",
       "996  tt7131622  Once Upon a Time... in Hollywood  $141,103,164  2019   \n",
       "997  tt2719848                           Everest   $87,178,599  1998   \n",
       "\n",
       "      grossint  averageRating  numVotes  \n",
       "993   79727149            6.2    234904  \n",
       "994   79666653            5.9     12832  \n",
       "995   79576189            4.4     37572  \n",
       "996  141103164            8.0    228765  \n",
       "997   87178599            7.1    184813  "
      ]
     },
     "execution_count": 90,
     "metadata": {},
     "output_type": "execute_result"
    }
   ],
   "source": [
    "mgr.tail()"
   ]
  },
  {
   "cell_type": "code",
   "execution_count": 91,
   "metadata": {},
   "outputs": [
    {
     "name": "stderr",
     "output_type": "stream",
     "text": [
      "C:\\Users\\epayn\\Anaconda3\\lib\\site-packages\\ipykernel_launcher.py:6: MatplotlibDeprecationWarning: Adding an axes using the same arguments as a previous axes currently reuses the earlier instance.  In a future version, a new instance will always be created and returned.  Meanwhile, this warning can be suppressed, and the future behavior ensured, by passing a unique label to each axes instance.\n",
      "  \n"
     ]
    },
    {
     "data": {
      "text/plain": [
       "Text(4, 30000000, 'Slope = 30465520.0, Intercept = -45985340.0, R = 0.291')"
      ]
     },
     "execution_count": 91,
     "metadata": {},
     "output_type": "execute_result"
    },
    {
     "data": {
      "image/png": "[encoded data removed]",
      "text/plain": [
       "<Figure size 720x504 with 1 Axes>"
      ]
     },
     "metadata": {
      "needs_background": "light"
     },
     "output_type": "display_data"
    }
   ],
   "source": [
    "# plotting and linear regression\n",
    "rating_gross_regression = stats.linregress(mgr[\"averageRating\"], mgr[\"grossint\"])\n",
    "\n",
    "plt.figure(figsize=(10,7))\n",
    "plt.title(\"Movie Lifetime Gross Revenues vs. IMDB Ratings\", fontsize=18)\n",
    "axes = plt.axes()\n",
    "\n",
    "axes.set_facecolor(\"xkcd:light grey\")\n",
    "axes.set_axisbelow(True)\n",
    "axes.grid(axis=\"both\", color = \"w\")\n",
    "\n",
    "axes.set_xlabel(\"Average IMDB Rating (1-10)\",size=\"x-large\")\n",
    "axes.set_ylabel(\"Lifetime Gross($)\",size=\"x-large\")\n",
    "\n",
    "plt.scatter(mgr[\"averageRating\"], mgr[\"grossint\"], alpha = .3)\n",
    "plt.plot(mgr[\"averageRating\"], mgr[\"averageRating\"]*rating_gross_regression[0]+rating_gross_regression[1],\n",
    "        c=\"black\")\n",
    "plt.annotate(f\"Slope = {round(rating_gross_regression[0],-1)},\" + \\\n",
    "             f\" Intercept = {round(rating_gross_regression[1],-1)}, R = {round(rating_gross_regression[2],3)}\", \n",
    "             (4, 30000000))"
   ]
  },
  {
   "cell_type": "code",
   "execution_count": null,
   "metadata": {},
   "outputs": [],
   "source": []
  }
 ],
 "metadata": {
  "kernelspec": {
   "display_name": "Python 3",
   "language": "python",
   "name": "python3"
  },
  "language_info": {
   "codemirror_mode": {
    "name": "ipython",
    "version": 3
   },
   "file_extension": ".py",
   "mimetype": "text/x-python",
   "name": "python",
   "nbconvert_exporter": "python",
   "pygments_lexer": "ipython3",
   "version": "3.7.3"
  }
 },
 "nbformat": 4,
 "nbformat_minor": 2
}
